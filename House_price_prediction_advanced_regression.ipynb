{
  "nbformat": 4,
  "nbformat_minor": 0,
  "metadata": {
    "colab": {
      "name": "House price prediction advanced regression",
      "provenance": []
    },
    "kernelspec": {
      "name": "python3",
      "display_name": "Python 3"
    },
    "language_info": {
      "name": "python"
    }
  },
  "cells": [
    {
      "cell_type": "code",
      "metadata": {
        "id": "kJOwM1pGO-kr"
      },
      "source": [
        "### importing libraries\n",
        "\n",
        "import pandas as pd\n"
      ],
      "execution_count": null,
      "outputs": []
    },
    {
      "cell_type": "code",
      "metadata": {
        "id": "b1mJhHCrQFij"
      },
      "source": [
        "#importing training data\n",
        "\n",
        "train= pd.read_csv(\"train.csv\")\n",
        "train.head()"
      ],
      "execution_count": null,
      "outputs": []
    },
    {
      "cell_type": "code",
      "metadata": {
        "id": "_LTIVVrmQqa3"
      },
      "source": [
        "# information about the dataset like rows columns and missing data\n",
        "\n",
        "train.info()"
      ],
      "execution_count": null,
      "outputs": []
    },
    {
      "cell_type": "code",
      "metadata": {
        "id": "Xqnw0KMYSSD6"
      },
      "source": [
        "# checking null values\n",
        "\n",
        "train.isna().any()"
      ],
      "execution_count": null,
      "outputs": []
    },
    {
      "cell_type": "code",
      "metadata": {
        "id": "Qvw7NWXMZYRF"
      },
      "source": [
        "# selecting all the object columns with null values\n",
        "\n",
        "obj_col = list(train.select_dtypes(include='object').columns)\n",
        "obj_col"
      ],
      "execution_count": null,
      "outputs": []
    },
    {
      "cell_type": "code",
      "metadata": {
        "id": "FP1fM_zWbDPs"
      },
      "source": [
        "# selecting all the integer columns with null values \n",
        "\n",
        "int_col = list(train.select_dtypes(exclude='object').columns)\n",
        "int_col\n"
      ],
      "execution_count": null,
      "outputs": []
    },
    {
      "cell_type": "code",
      "metadata": {
        "id": "En34tTeeTgMk"
      },
      "source": [
        "# Filling missing values in the columns\n",
        "# data type should be taken care of during filling the empty columns\n",
        "\n",
        "def fill_val(df):\n",
        "  for col in obj_col:\n",
        "    df[col].fillna(value=df[col].mode()[0],inplace=True)\n",
        "\n",
        "  for col in int_col:\n",
        "    df[col].fillna(value=df[col].mean(),inplace=True)  "
      ],
      "execution_count": null,
      "outputs": []
    },
    {
      "cell_type": "code",
      "metadata": {
        "id": "AV4C3LNAgiL_"
      },
      "source": [
        "# Fill the missing values\n",
        "\n",
        "#train1 = train\n",
        "fill_val(train)"
      ],
      "execution_count": null,
      "outputs": []
    },
    {
      "cell_type": "code",
      "metadata": {
        "colab": {
          "base_uri": "https://localhost:8080/"
        },
        "id": "MzuBFhI4hP-O",
        "outputId": "d3231710-59c7-4b18-8595-6ac87c750afa"
      },
      "source": [
        "# Checking the columns for null values after the filling \n",
        "# All the columns are filled\n",
        "\n",
        "sum(train.isna().any())"
      ],
      "execution_count": null,
      "outputs": [
        {
          "output_type": "execute_result",
          "data": {
            "text/plain": [
              "0"
            ]
          },
          "metadata": {
            "tags": []
          },
          "execution_count": 60
        }
      ]
    },
    {
      "cell_type": "code",
      "metadata": {
        "id": "_7mZAUuIiuU9"
      },
      "source": [
        "# Process each column with feature engineering\n",
        "\n",
        "id = train['Id']\n",
        "dum=pd.get_dummies(train[obj_col],prefix=obj_col)\n",
        "dum"
      ],
      "execution_count": null,
      "outputs": []
    },
    {
      "cell_type": "code",
      "metadata": {
        "colab": {
          "base_uri": "https://localhost:8080/"
        },
        "id": "YRsda8gYrGN9",
        "outputId": "c3e2cc25-6bc7-4556-e83e-816dc4d06e0e"
      },
      "source": [
        "# Deleting existing columns\n",
        "train.drop(obj_col,axis=1,inplace=True)\n",
        "train.shape"
      ],
      "execution_count": null,
      "outputs": [
        {
          "output_type": "execute_result",
          "data": {
            "text/plain": [
              "(1460, 38)"
            ]
          },
          "metadata": {
            "tags": []
          },
          "execution_count": 62
        }
      ]
    },
    {
      "cell_type": "code",
      "metadata": {
        "id": "OGhsbpmJ0P87"
      },
      "source": [
        "# concatanating the present dataset and dummi to form final trainable dataset \n",
        "\n",
        "train1 = pd.concat([train,dum],axis=1)\n",
        "train1"
      ],
      "execution_count": null,
      "outputs": []
    },
    {
      "cell_type": "code",
      "metadata": {
        "id": "Heb-Nk351WAO"
      },
      "source": [
        "# importing and  Proccessing the test data in same way \n",
        "\n",
        "test = pd.read_csv(\"test.csv\")\n",
        "\n",
        "int_col.remove('SalePrice')# test set does not have saleprice\n",
        "\n",
        "\n",
        "trainc = pd.read_csv(\"train.csv\")\n",
        "\n",
        "int_col+obj_col\n",
        "\n",
        "train_test=pd.concat([trainc.drop('SalePrice',axis=1),test],axis=0)\n",
        "\n",
        "fill_val(train_test)\n",
        "\n",
        "dum1=pd.get_dummies(train_test[obj_col],prefix=obj_col)"
      ],
      "execution_count": null,
      "outputs": []
    },
    {
      "cell_type": "code",
      "metadata": {
        "id": "lY0VYYOO9iaQ"
      },
      "source": [
        "train_test.drop(obj_col,axis=1,inplace=True)\n",
        "\n",
        "train_test1=pd.concat([train_test,dum1],axis=1) # final test set\n",
        "train_test1.head()\n"
      ],
      "execution_count": null,
      "outputs": []
    },
    {
      "cell_type": "code",
      "metadata": {
        "id": "i8XBSJDO_GWv"
      },
      "source": [
        "# split the data into test and train data with x_train,test and y_train,test\n",
        "\n",
        "x_train = train_test1.iloc[0:1460]\n",
        "y_train = train['SalePrice']\n",
        "x_test = train_test1.iloc[1460:]\n"
      ],
      "execution_count": null,
      "outputs": []
    },
    {
      "cell_type": "code",
      "metadata": {
        "id": "vYo4_UB0CRSm"
      },
      "source": [
        "# BUilding the model\n",
        "\n",
        "from sklearn.ensemble import RandomForestRegressor\n",
        "\n",
        "model=RandomForestRegressor(random_state=23)"
      ],
      "execution_count": null,
      "outputs": []
    },
    {
      "cell_type": "code",
      "metadata": {
        "id": "iZIydnnmC3Du"
      },
      "source": [
        "# train the data\n",
        "\n",
        "model.fit(x_train,y_train)\n"
      ],
      "execution_count": null,
      "outputs": []
    },
    {
      "cell_type": "code",
      "metadata": {
        "id": "0yAFiHcXDdRL"
      },
      "source": [
        "# Predict the y_test\n",
        "\n",
        "y_test=model.predict(x_test)"
      ],
      "execution_count": null,
      "outputs": []
    },
    {
      "cell_type": "code",
      "metadata": {
        "id": "py925cLLDiiK"
      },
      "source": [
        "#preparing the submission file\n",
        "\n",
        "submission1 = pd.DataFrame({'Id':test['Id'],'SalePrice':y_test})\n",
        "submission1.to_csv('submission1.csv',index=False)"
      ],
      "execution_count": null,
      "outputs": []
    }
  ]
}